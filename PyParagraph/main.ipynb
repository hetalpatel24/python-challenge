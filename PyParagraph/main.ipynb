{
 "cells": [
  {
   "cell_type": "code",
   "execution_count": 15,
   "metadata": {},
   "outputs": [
    {
     "name": "stdout",
     "output_type": "stream",
     "text": [
      "Paragraph Analysis\n",
      "--------------------------------\n",
      "Approximate Word Count: 130\n",
      "Approximate Sentence Count: 5\n",
      "Average Letter Count: 7.4\n",
      "Average Sentence Length: 26.0\n"
     ]
    }
   ],
   "source": [
    "file_to_load = \"raw_data/paragraph_1.txt\"\n",
    "\n",
    "with open(file_to_load, 'r') as reader:\n",
    "    \n",
    "    num_word = 0\n",
    "    num_letter = 0        \n",
    "    \n",
    "    for row in reader:\n",
    "        \n",
    "        num_lines = row.count(\".\")\n",
    "        wordsList = row.split()\n",
    "        num_word += len(wordsList)\n",
    "        num_letter += len(row)\n",
    "    avg_letter_count = round(num_letter/num_word,2)\n",
    "    avg_sentence_length = round(num_word/num_lines,2)\n",
    "        \n",
    "    print(\"Paragraph Analysis\")\n",
    "    print(\"--------------------------------\")\n",
    "    print(\"Approximate Word Count:\", num_word)\n",
    "    print(\"Approximate Sentence Count:\", num_lines)\n",
    "    print(\"Average Letter Count:\", avg_letter_count)\n",
    "    print(\"Average Sentence Length:\", avg_sentence_length)\n",
    "    \n",
    "text_file = open(\"Output.txt\", \"w\")\n",
    "text_file.write(\"Paragraph Analysis\")\n",
    "text_file.write(\"\\n\")\n",
    "text_file.write(\"--------------------------------\")\n",
    "text_file.write(\"\\n\")\n",
    "text_file.write(\"Approximate Word Count: \")\n",
    "text_file.write(str(num_word))\n",
    "text_file.write(\"\\n\")\n",
    "text_file.write(\"Approximate Sentence Count: \")\n",
    "text_file.write(str(num_lines))\n",
    "text_file.write(\"\\n\")\n",
    "text_file.write(\"Average Letter Count: \")\n",
    "text_file.write(str(avg_letter_count))\n",
    "text_file.write(\"\\n\")\n",
    "text_file.write(\"Average Sentence Length: \")\n",
    "text_file.write(str(avg_sentence_length))\n",
    "text_file.close()"
   ]
  },
  {
   "cell_type": "code",
   "execution_count": 11,
   "metadata": {},
   "outputs": [
    {
     "name": "stdout",
     "output_type": "stream",
     "text": [
      "Paragraph Analysis\n",
      "--------------------------------\n",
      "Approximate Word Count: 285\n",
      "Approximate Sentence Count: 11\n",
      "Average Letter Count: 6.28\n",
      "Average Sentence Length: 25.91\n"
     ]
    }
   ],
   "source": [
    "file_to_load = \"raw_data/paragraph_2.txt\"\n",
    "\n",
    "with open(file_to_load, 'r') as reader:\n",
    "    \n",
    "    num_letter = 0        \n",
    "    num_lines = 0\n",
    "    num_word = 0\n",
    "    \n",
    "    for row in reader:\n",
    "       \n",
    "        wordsList = row.split()\n",
    "        num_lines += row.count('.')\n",
    "        num_word += len(wordsList)\n",
    "        num_letter += len(row)\n",
    "    avg_letter_count = round(num_letter/num_word,2)\n",
    "    avg_sentence_length = round(num_word/num_lines,2)\n",
    "        \n",
    "    print(\"Paragraph Analysis\")\n",
    "    print(\"--------------------------------\")\n",
    "    print(\"Approximate Word Count:\", num_word)\n",
    "    print(\"Approximate Sentence Count:\", num_lines)\n",
    "    print(\"Average Letter Count:\", avg_letter_count)\n",
    "    print(\"Average Sentence Length:\", avg_sentence_length)\n",
    "    \n",
    "text_file = open(\"Output.txt\", \"w\")\n",
    "text_file.write(\"Paragraph Analysis\")\n",
    "text_file.write(\"\\n\")\n",
    "text_file.write(\"--------------------------------\")\n",
    "text_file.write(\"\\n\")\n",
    "text_file.write(\"Approximate Word Count: \")\n",
    "text_file.write(str(num_word))\n",
    "text_file.write(\"\\n\")\n",
    "text_file.write(\"Approximate Sentence Count: \")\n",
    "text_file.write(str(num_lines))\n",
    "text_file.write(\"\\n\")\n",
    "text_file.write(\"Average Letter Count: \")\n",
    "text_file.write(str(avg_letter_count))\n",
    "text_file.write(\"\\n\")\n",
    "text_file.write(\"Average Sentence Length: \")\n",
    "text_file.write(str(avg_sentence_length))\n",
    "text_file.close()"
   ]
  },
  {
   "cell_type": "code",
   "execution_count": null,
   "metadata": {
    "collapsed": true
   },
   "outputs": [],
   "source": []
  }
 ],
 "metadata": {
  "kernelspec": {
   "display_name": "Python 3",
   "language": "python",
   "name": "python3"
  },
  "language_info": {
   "codemirror_mode": {
    "name": "ipython",
    "version": 3
   },
   "file_extension": ".py",
   "mimetype": "text/x-python",
   "name": "python",
   "nbconvert_exporter": "python",
   "pygments_lexer": "ipython3",
   "version": "3.6.2"
  }
 },
 "nbformat": 4,
 "nbformat_minor": 2
}
